{
 "cells": [
  {
   "cell_type": "code",
   "execution_count": null,
   "metadata": {},
   "outputs": [],
   "source": [
    "\n",
    "#1)Открывает файл, генерирует список из данных n-ого столбца    \n",
    "\n",
    "def read_col(file, n):                         \n",
    "    result = []                                     \n",
    "    with open(file) as infile:\n",
    "        for line in infile:\n",
    "            result.append((line.split()[n]))\n",
    "    return result     \n",
    "\n",
    "#2)Возвращиет пересечение двух списков\n",
    "\n",
    "def IntersLst(first, second):                     \n",
    "    in_lst =  list(set(first) & set(second))\n",
    "    return in_lst\n",
    "\n",
    "\n",
    "#3)Разница двух списков\n",
    "\n",
    "def DifLst(first, second):                         \n",
    "    dif_lst = list(set(first) - set(second))\n",
    "    return dif_lst\n",
    "\n",
    "\n",
    "#4)Добавляет столбцы в датафрейм \"Odds ratio\" и \"p-value\" (Fisher test)\n",
    "\n",
    "def OddsRario_Pvalue(df, col1, col2, col3, col4):\n",
    "    index_lst = list(df.index) \n",
    "    df['odds_ratio'] = [0]*len(index_lst)\n",
    "    df['p-value'] = [0]*len(index_lst)\n",
    "    for i in index_lst:\n",
    "        a = df.loc[i, col1]\n",
    "        b = df.loc[i, col2]\n",
    "        c = df.loc[i, col3]\n",
    "        d = df.loc[i, col4]\n",
    "        сont_lst = [[a,b], [c,d]]\n",
    "        oddsratio, pvalue = stats.fisher_exact(сont_lst)\n",
    "        df.loc[i, 'odds_ratio'] = oddsratio\n",
    "        df.loc[i, 'p-value'] =  pvalue\n",
    "        \n",
    "    \n",
    "    "
   ]
  }
 ],
 "metadata": {
  "kernelspec": {
   "display_name": "Python 3",
   "language": "python",
   "name": "python3"
  },
  "language_info": {
   "codemirror_mode": {
    "name": "ipython",
    "version": 3
   },
   "file_extension": ".py",
   "mimetype": "text/x-python",
   "name": "python",
   "nbconvert_exporter": "python",
   "pygments_lexer": "ipython3",
   "version": "3.6.9"
  }
 },
 "nbformat": 4,
 "nbformat_minor": 4
}
