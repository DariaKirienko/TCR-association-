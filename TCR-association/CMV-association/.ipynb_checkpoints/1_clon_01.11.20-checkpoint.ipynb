{
 "cells": [
  {
   "cell_type": "code",
   "execution_count": 1,
   "metadata": {},
   "outputs": [
    {
     "name": "stdout",
     "output_type": "stream",
     "text": [
      "importing Jupyter notebook from mymodule.ipynb\n",
      "['HIP12534.txt', 'HIP13383.txt', 'HIP08521.txt', 'HIP00832.txt', 'HIP13291.txt', 'HIP11784.txt', 'HIP14114.txt', 'HIP02805.txt', 'HIP03370.txt', 'HIP14118.txt', 'HIP13178.txt', 'HIP13402.txt', 'HIP13686.txt', 'HIP13449.txt', 'HIP14041.txt', 'HIP08725.txt', 'HIP04532.txt', 'HIP13981.txt', 'HIP01266.txt', 'HIP05388.txt', 'HIP00602.txt', 'HIP01162.txt', 'HIP12123.txt', 'HIP05948.txt', 'HIP13251.txt', 'HIP11518.txt', 'HIP03385.txt', 'HIP05405.txt', 'HIP11058.txt', 'HIP08399.txt', 'HIP14024.txt', 'HIP01129.txt', 'HIP05595.txt', 'HIP13833.txt', 'HIP03111.txt', 'HIP13894.txt', 'HIP05942.txt', 'HIP14103.txt', 'HIP04475.txt', 'HIP13903.txt', 'HIP05533.txt', 'HIP10639.txt', 'HIP13256.txt', 'HIP05763.txt', 'HIP13831.txt', 'HIP10445.txt', 'HIP01856.txt', 'HIP17534.txt', 'HIP05460.txt', 'HIP08439.txt', 'HIP14202.txt', 'HIP08890.txt', 'HIP13877.txt', 'HIP02112.txt', 'HIP14048.txt', 'HIP00898.txt', 'HIP08076.txt', 'HIP01022.txt', 'HIP12034.txt', 'HIP05390.txt', 'HIP10564.txt', 'HIP13671.txt', 'HIP01197.txt', 'HIP05331.txt', 'HIP12743.txt', 'HIP14187.txt', 'HIP14121.txt', 'HIP13284.txt', 'HIP03381.txt', 'HIP03275.txt', 'HIP09051.txt', 'HIP13938.txt', 'HIP02734.txt', 'HIP04471.txt', 'HIP14181.txt', 'HIP02875.txt', 'HIP13958.txt', 'HIP09022.txt', 'HIP14053.txt', 'HIP13303.txt', 'HIP10447.txt', 'HIP11649.txt', 'HIP14089.txt', 'HIP09430.txt', 'HIP00710.txt', 'HIP13185.txt', 'HIP13363.txt', 'HIP03484.txt', 'HIP04576.txt', 'HIP10759.txt', 'HIP05574.txt', 'HIP05578.txt', 'HIP14136.txt', 'HIP13276.txt', 'HIP00822.txt', 'HIP02742.txt', 'HIP00997.txt', 'HIP00761.txt', 'HIP00769.txt', 'HIP09235.txt', 'HIP00777.txt', 'HIP02090.txt', 'HIP03597.txt', 'HIP13636.txt', 'HIP08596.txt', 'HIP01499.txt', 'HIP14074.txt', 'HIP03494.txt', 'HIP13198.txt', 'HIP08346.txt', 'HIP14148.txt', 'HIP13627.txt', 'HIP05437.txt', 'HIP11553.txt', 'HIP05409.txt', 'HIP10814.txt', 'HIP14009.txt', 'HIP13869.txt', 'HIP13923.txt', 'HIP13929.txt', 'HIP14079.txt', 'HIP13309.txt', 'HIP04455.txt', 'HIP12900.txt', 'HIP17723.txt', 'HIP03004.txt', 'HIP13142.txt', 'HIP12088.txt', 'HIP14227.txt', 'HIP09559.txt', 'HIP13766.txt', 'HIP08821.txt', 'HIP13227.txt', 'HIP02663.txt', 'HIP01218.txt', 'HIP14223.txt', 'HIP14183.txt', 'HIP03807.txt', 'HIP17760.txt', 'HIP13860.txt', 'HIP14361.txt', 'HIP16515.txt', 'HIP13983.txt', 'HIP13976.txt', 'HIP13966.txt', 'HIP03107.txt', 'HIP00926.txt', 'HIP01313.txt', 'HIP12538.txt', 'HIP13414.txt', 'HIP05941.txt', 'HIP13511.txt', 'HIP13900.txt', 'HIP14911.txt', 'HIP13809.txt', 'HIP03628.txt', 'HIP08507.txt', 'HIP04511.txt', 'HIP01004.txt', 'HIP13954.txt', 'HIP13319.txt', 'HIP00773.txt', 'HIP00594.txt', 'HIP09159.txt', 'HIP14059.txt', 'HIP08653.txt', 'HIP11845.txt', 'HIP09365.txt', 'HIP05398.txt', 'HIP13987.txt', 'HIP01867.txt', 'HIP05540.txt', 'HIP14007.txt', 'HIP05551.txt', 'HIP13803.txt', 'HIP13193.txt', 'HIP14175.txt', 'HIP13610.txt', 'HIP08816.txt', 'HIP01181.txt', 'HIP01140.txt', 'HIP13789.txt', 'HIP14037.txt', 'HIP00904.txt', 'HIP09150.txt', 'HIP14217.txt', 'HIP00771.txt', 'HIP14494.txt', 'HIP08888.txt', 'HIP17577.txt', 'HIP02024.txt', 'HIP13352.txt', 'HIP03495.txt', 'HIP10377.txt', 'HIP02928.txt', 'HIP13859.txt', 'HIP08389.txt', 'HIP00851.txt', 'HIP16867.txt', 'HIP14218.txt', 'HIP13847.txt', 'HIP05434.txt', 'HIP03099.txt', 'HIP14022.txt', 'HIP17462.txt', 'HIP04958.txt', 'HIP08972.txt', 'HIP14107.txt', 'HIP17585.txt', 'HIP01820.txt', 'HIP00826.txt', 'HIP13746.txt', 'HIP13935.txt', 'HIP14152.txt', 'HIP00614.txt', 'HIP01582.txt', 'HIP09001.txt', 'HIP03505.txt', 'HIP08337.txt', 'HIP10730.txt', 'HIP13350.txt', 'HIP05590.txt', 'HIP01391.txt', 'HIP13945.txt', 'HIP10480.txt', 'HIP13157.txt', 'HIP13473.txt', 'HIP12129.txt', 'HIP13926.txt', 'HIP13463.txt', 'HIP13769.txt', 'HIP00951.txt', 'HIP03685.txt', 'HIP10568.txt', 'HIP12097.txt', 'HIP01220.txt', 'HIP09062.txt', 'HIP13773.txt', 'HIP13214.txt', 'HIP10716.txt', 'HIP02078.txt', 'HIP19048.txt', 'HIP09029.txt', 'HIP13465.txt', 'HIP05757.txt', 'HIP14211.txt', 'HIP09366.txt', 'HIP03812.txt', 'HIP14226.txt', 'HIP09681.txt', 'HIP13818.txt', 'HIP08345.txt', 'HIP00934.txt', 'HIP13939.txt', 'HIP00999.txt', 'HIP13967.txt', 'HIP13489.txt', 'HIP01359.txt', 'HIP01798.txt', 'HIP13865.txt', 'HIP13902.txt', 'HIP14244.txt', 'HIP13228.txt', 'HIP03228.txt', 'HIP13760.txt', 'HIP05524.txt', 'HIP10815.txt', 'HIP01850.txt', 'HIP14016.txt', 'HIP14240.txt', 'HIP10669.txt', 'HIP14231.txt', 'HIP09122.txt', 'HIP05815.txt', 'HIP13853.txt', 'HIP13324.txt', 'HIP08200.txt', 'HIP13992.txt', 'HIP13919.txt', 'HIP12980.txt', 'HIP02855.txt', 'HIP17698.txt', 'HIP13975.txt', 'HIP10358.txt', 'HIP04498.txt', 'HIP10817.txt', 'HIP14153.txt', 'HIP13947.txt', 'HIP14142.txt', 'HIP08230.txt', 'HIP11513.txt', 'HIP13941.txt', 'HIP14096.txt', 'HIP14000.txt', 'HIP13782.txt', 'HIP14066.txt', 'HIP14092.txt', 'HIP12091.txt', 'HIP13661.txt', 'HIP01465.txt', 'HIP04597.txt', 'HIP13822.txt', 'HIP13318.txt', 'HIP13978.txt', 'HIP13928.txt', 'HIP00813.txt', 'HIP01470.txt', 'HIP12527.txt', 'HIP08711.txt', 'HIP13625.txt', 'HIP13654.txt', 'HIP00869.txt', 'HIP13893.txt', 'HIP11989.txt', 'HIP13994.txt', 'HIP09624.txt', 'HIP13856.txt', 'HIP05559.txt', 'HIP13920.txt', 'HIP02126.txt', 'HIP04527.txt', 'HIP03591.txt', 'HIP14028.txt', 'HIP02737.txt', 'HIP14039.txt', 'HIP03695.txt', 'HIP13567.txt', 'HIP13786.txt', 'HIP10820.txt', 'HIP04578.txt', 'HIP14109.txt', 'HIP13360.txt', 'HIP05841.txt', 'HIP10821.txt', 'HIP17449.txt', 'HIP13777.txt', 'HIP08702.txt', 'HIP13233.txt', 'HIP07754.txt', 'HIP10726.txt', 'HIP01206.txt', 'HIP03511.txt', 'HIP13478.txt', 'HIP05455.txt', 'HIP01805.txt', 'HIP17457.txt', 'HIP09789.txt', 'HIP01255.txt', 'HIP14130.txt', 'HIP10514.txt', 'HIP13916.txt', 'HIP13361.txt', 'HIP13806.txt', 'HIP13986.txt', 'HIP03693.txt', 'HIP09119.txt', 'HIP13720.txt', 'HIP13505.txt', 'HIP10823.txt', 'HIP14127.txt', 'HIP05561.txt', 'HIP13949.txt', 'HIP01055.txt', 'HIP13996.txt', 'HIP13396.txt', 'HIP15685.txt', 'HIP13376.txt', 'HIP03383.txt', 'HIP08805.txt', 'HIP11937.txt', 'HIP09041.txt', 'HIP10545.txt', 'HIP02103.txt', 'HIP14241.txt', 'HIP14060.txt', 'HIP05817.txt', 'HIP05960.txt', 'HIP13933.txt', 'HIP13296.txt', 'HIP13311.txt', 'HIP13814.txt', 'HIP13989.txt', 'HIP09020.txt', 'HIP19717.txt', 'HIP10389.txt', 'HIP13252.txt', 'HIP17837.txt', 'HIP08339.txt', 'HIP14055.txt', 'HIP14077.txt', 'HIP01393.txt', 'HIP13370.txt', 'HIP17445.txt', 'HIP13592.txt', 'HIP13780.txt', 'HIP00985.txt', 'HIP11613.txt', 'HIP05832.txt', 'HIP08986.txt', 'HIP05552.txt', 'HIP13294.txt', 'HIP13887.txt', 'HIP14043.txt', 'HIP01571.txt', 'HIP14213.txt', 'HIP09284.txt', 'HIP09026.txt', 'HIP14034.txt', 'HIP03236.txt', 'HIP04552.txt', 'HIP05563.txt', 'HIP01865.txt', 'HIP02997.txt', 'HIP13951.txt', 'HIP13710.txt', 'HIP14072.txt', 'HIP13230.txt', 'HIP11758.txt', 'HIP04611.txt', 'HIP13306.txt', 'HIP14140.txt', 'HIP09097.txt', 'HIP00779.txt', 'HIP14036.txt', 'HIP11711.txt', 'HIP05665.txt', 'HIP03677.txt', 'HIP10746.txt', 'HIP13518.txt', 'HIP05838.txt', 'HIP01392.txt', 'HIP13695.txt', 'HIP02820.txt', 'HIP05311.txt', 'HIP00825.txt', 'HIP14214.txt', 'HIP03233.txt', 'HIP13800.txt', 'HIP00775.txt', 'HIP04464.txt', 'HIP08710.txt', 'HIP05934.txt', 'HIP14090.txt', 'HIP14004.txt', 'HIP14161.txt', 'HIP14018.txt', 'HIP10376.txt', 'HIP04480.txt', 'HIP12099.txt', 'HIP13515.txt', 'HIP05377.txt', 'HIP17845.txt', 'HIP13771.txt', 'HIP02962.txt', 'HIP02877.txt', 'HIP10694.txt', 'HIP00734.txt', 'HIP13325.txt', 'HIP02873.txt', 'HIP05467.txt', 'HIP13880.txt', 'HIP14221.txt', 'HIP13263.txt', 'HIP13911.txt', 'HIP06191.txt', 'HIP08223.txt', 'HIP02848.txt', 'HIP14184.txt', 'HIP09344.txt', 'HIP01501.txt', 'HIP08977.txt', 'HIP15861.txt', 'HIP03502.txt', 'HIP13852.txt', 'HIP08598.txt', 'HIP14124.txt', 'HIP13749.txt', 'HIP11774.txt', 'HIP13220.txt', 'HIP01180.txt', 'HIP00169.txt', 'HIP09364.txt', 'HIP01947.txt', 'HIP13988.txt', 'HIP12143.txt', 'HIP04509.txt', 'HIP00924.txt', 'HIP13274.txt', 'HIP14196.txt', 'HIP15854.txt', 'HIP14176.txt', 'HIP01160.txt', 'HIP03630.txt', 'HIP03651.txt', 'HIP13972.txt', 'HIP04545.txt', 'HIP14110.txt', 'HIP13703.txt', 'HIP00838.txt', 'HIP01797.txt', 'HIP11857.txt', 'HIP00728.txt', 'HIP00805.txt', 'HIP13964.txt', 'HIP03720.txt', 'HIP01870.txt', 'HIP14051.txt', 'HIP13757.txt', 'HIP13427.txt', 'HIP13932.txt', 'HIP13244.txt', 'HIP14205.txt', 'HIP01795.txt', 'HIP14129.txt', 'HIP14045.txt', 'HIP14064.txt', 'HIP08400.txt', 'HIP09190.txt', 'HIP09253.txt', 'HIP17370.txt', 'HIP03378.txt', 'HIP14230.txt', 'HIP14095.txt', 'HIP08305.txt', 'HIP14106.txt', 'HIP14194.txt', 'HIP14071.txt', 'HIP15855.txt', 'HIP13209.txt', 'HIP14020.txt', 'HIP12703.txt', 'HIP13875.txt', 'HIP14014.txt', 'HIP02811.txt', 'HIP09118.txt', 'HIP14192.txt', 'HIP02947.txt', 'HIP13857.txt', 'HIP00640.txt', 'HIP08236.txt', 'HIP13796.txt', 'HIP01384.txt', 'HIP04605.txt', 'HIP04634.txt', 'HIP14174.txt', 'HIP14209.txt', 'HIP14080.txt', 'HIP13513.txt', 'HIP05535.txt', 'HIP14236.txt', 'HIP01264.txt', 'HIP09046.txt', 'HIP12165.txt', 'HIP13554.txt', 'HIP08792.txt', 'HIP00715.txt', 'HIP00819.txt', 'HIP13355.txt', 'HIP04555.txt', 'HIP10424.txt', 'HIP13176.txt', 'HIP03678.txt', 'HIP13015.txt', 'HIP08989.txt', 'HIP13217.txt', 'HIP14157.txt', 'HIP03732.txt', 'HIP13206.txt', 'HIP00110.txt', 'HIP13183.txt', 'HIP03618.txt', 'HIP14206.txt', 'HIP10443.txt', 'HIP09775.txt', 'HIP12533.txt', 'HIP10408.txt', 'HIP04510.txt', 'HIP03592.txt', 'HIP05444.txt', 'HIP13956.txt', 'HIP10787.txt', 'HIP14015.txt', 'HIP03184.txt', 'HIP14237.txt', 'HIP13658.txt', 'HIP00707.txt', 'HIP08827.txt', 'HIP13497.txt', 'HIP01232.txt', 'HIP13265.txt', 'HIP13722.txt', 'HIP13794.txt', 'HIP11717.txt', 'HIP13667.txt', 'HIP14030.txt', 'HIP13962.txt', 'HIP13122.txt', 'HIP02931.txt', 'HIP13871.txt', 'HIP13168.txt', 'HIP01223.txt']\n"
     ]
    }
   ],
   "source": [
    "import pandas as pd\n",
    "import os \n",
    "import import_ipynb\n",
    "import mymodule as md\n",
    "\n",
    "public = pd.read_csv('/projects/fmba_covid/hip_downsampled/pool/pool.aa.table.txt', sep = '\\t')\n",
    "public = public.drop(public[public.incidence < 20].index)\n",
    "met_data = pd.read_csv('/projects/fmba_covid/hip_downsampled/metadata.txt', sep = '\\t')\n",
    "\n",
    "os.chdir(\"/projects/fmba_covid/hip_downsampled\")\n",
    "\n",
    "met_data = met_data.dropna(subset=['cmv', 'hla'])                         #удаляем NaN значения\n",
    "sample_lst = [i for i in os.listdir() if i.startswith(\"HIP\")]\n",
    "sample_lst = md.IntersLst(list(met_data['file_name']), sample_lst)\n",
    "\n",
    "print(sample_lst)\n",
    "\n",
    "\n",
    "met_cmv = dict(zip(list(met_data['file_name']), list(met_data['cmv'])))  #Словарь \"название образца\" : \"CMV\"  \n",
    "met_hla = dict(zip(list(met_data['file_name']), list(met_data['hla'])))  #Словарь \"название образца\" : \"список из HLA\"\n",
    "cdr3_lst = list(public['cdr3aa'])                                            #Список ID CDR3aa\n",
    "df_col = [1]*len(cdr3_lst)\n",
    "\n",
    "\n",
    "#Это мой датафрейм\n",
    "df = pd.DataFrame({'CMV+_HLA-B*35' : df_col, 'CMV+_other' : df_col, 'CMV-_HLA-B*35' : df_col, 'CMV-_other' : df_col}, \n",
    "                  index = cdr3_lst)\n",
    "df.index.name='cdr3aa'\n",
    "#Это мой датафрейм\n",
    "\n",
    "\n",
    "hla = \"HLA-B*35\" \n",
    "\n",
    "for filename in sample_lst:\n",
    "    #if filename.startswith(\"HIP\"):\n",
    "        sample = md.read_col(filename, 3)\n",
    "        found = md.IntersLst(cdr3_lst, sample)        \n",
    "        if met_cmv[filename]== '+':\n",
    "            if hla in list(met_hla[filename].split(',')):\n",
    "                df.loc[found, 'CMV+_HLA-B*35'] += 1\n",
    "            else:\n",
    "                df.loc[found, 'CMV+_other'] += 1\n",
    "        elif met_cmv[filename]== '-':\n",
    "            if hla in list(met_hla[filename].split(',')):\n",
    "                df.loc[found, 'CMV-_HLA-B*35'] += 1\n",
    "            else: \n",
    "                df.loc[found, 'CMV-_other'] += 1\n",
    "    \n",
    "os.chdir(\"/home/daria/A02/common\")    \n",
    "df.to_csv('cmv_hla-B*35_2.txt', sep = '\\t')\n"
   ]
  },
  {
   "cell_type": "code",
   "execution_count": 2,
   "metadata": {},
   "outputs": [
    {
     "ename": "NameError",
     "evalue": "name 'stats' is not defined",
     "output_type": "error",
     "traceback": [
      "\u001b[0;31m---------------------------------------------------------------------------\u001b[0m",
      "\u001b[0;31mNameError\u001b[0m                                 Traceback (most recent call last)",
      "\u001b[0;32m<ipython-input-2-2bef148bc3d6>\u001b[0m in \u001b[0;36m<module>\u001b[0;34m\u001b[0m\n\u001b[1;32m     10\u001b[0m \u001b[0mcmv_hla\u001b[0m \u001b[0;34m=\u001b[0m \u001b[0mcmv_hla\u001b[0m\u001b[0;34m.\u001b[0m\u001b[0mset_index\u001b[0m\u001b[0;34m(\u001b[0m\u001b[0;34m'cdr3aa'\u001b[0m\u001b[0;34m)\u001b[0m\u001b[0;34m\u001b[0m\u001b[0;34m\u001b[0m\u001b[0m\n\u001b[1;32m     11\u001b[0m \u001b[0;34m\u001b[0m\u001b[0m\n\u001b[0;32m---> 12\u001b[0;31m \u001b[0mmd\u001b[0m\u001b[0;34m.\u001b[0m\u001b[0mOddsRario_Pvalue\u001b[0m\u001b[0;34m(\u001b[0m\u001b[0mcmv_hla\u001b[0m\u001b[0;34m,\u001b[0m \u001b[0;34m'CMV+_HLA-B*35'\u001b[0m\u001b[0;34m,\u001b[0m \u001b[0;34m'CMV+_other'\u001b[0m\u001b[0;34m,\u001b[0m \u001b[0;34m'CMV-_HLA-B*35'\u001b[0m\u001b[0;34m,\u001b[0m \u001b[0;34m'CMV-_other'\u001b[0m\u001b[0;34m)\u001b[0m\u001b[0;34m\u001b[0m\u001b[0;34m\u001b[0m\u001b[0m\n\u001b[0m\u001b[1;32m     13\u001b[0m \u001b[0;34m\u001b[0m\u001b[0m\n\u001b[1;32m     14\u001b[0m \u001b[0mcmv_hela\u001b[0m \u001b[0;34m=\u001b[0m \u001b[0mcmv_hela\u001b[0m\u001b[0;34m.\u001b[0m\u001b[0mdrop\u001b[0m\u001b[0;34m(\u001b[0m\u001b[0mcmv_hela\u001b[0m\u001b[0;34m[\u001b[0m\u001b[0mcmv_hela\u001b[0m\u001b[0;34m.\u001b[0m\u001b[0modds_ratio\u001b[0m \u001b[0;34m<\u001b[0m \u001b[0;36m1.1\u001b[0m\u001b[0;34m]\u001b[0m\u001b[0;34m.\u001b[0m\u001b[0mindex\u001b[0m\u001b[0;34m)\u001b[0m\u001b[0;34m\u001b[0m\u001b[0;34m\u001b[0m\u001b[0m\n",
      "\u001b[0;32m~/github/cdr-association/CMV-association/mymodule.ipynb\u001b[0m in \u001b[0;36mOddsRario_Pvalue\u001b[0;34m(df, col1, col2, col3, col4)\u001b[0m\n",
      "\u001b[0;31mNameError\u001b[0m: name 'stats' is not defined"
     ]
    }
   ],
   "source": [
    "import pandas as pd\n",
    "import import_ipynb\n",
    "import mymodule as md\n",
    "import os \n",
    "import scipy.stats as stats\n",
    "import statsmodels.stats.multitest as smt\n",
    "\n",
    "cmv_hla = pd.read_csv('/home/daria/A02/common/cmv_hla-B*35_2.txt', sep='\\t')\n",
    "cmv_hla.columns = ['cdr3aa','CMV+_HLA-B*35', 'CMV+_other', 'CMV-_HLA-B*35', 'CMV-_other']\n",
    "cmv_hla = cmv_hla.set_index('cdr3aa')\n",
    "\n",
    "md.OddsRario_Pvalue(cmv_hla, 'CMV+_HLA-B*35', 'CMV+_other', 'CMV-_HLA-B*35', 'CMV-_other')\n",
    "\n",
    "cmv_hela = cmv_hela.drop(cmv_hela[cmv_hela.odds_ratio < 1.1].index) \n",
    "df.to_csv('cmv_hla_pv_1.txt', sep = '\\t')\n",
    "df_finish = cmv_hela.sort_values('p-value', kind='mergesort')\n",
    "df_finish.to_csv('cmv_hla-B*35_pv_2.txt', sep = '\\t')\n"
   ]
  },
  {
   "cell_type": "code",
   "execution_count": null,
   "metadata": {},
   "outputs": [],
   "source": [
    "import pandas as pd\n",
    "import import_ipynb\n",
    "import mymodule as md\n",
    "import os \n",
    "import scipy.stats as stats\n",
    "#import statsmodels.stats.multitest as smt\n",
    "\n",
    "cmv_hla = pd.read_csv('/home/daria/A02/common/cmv_hla-B*35_2.txt', sep='\\t')\n",
    "cmv_hla.columns = ['cdr3aa','CMV+_HLA-B*35', 'CMV+_other', 'CMV-_HLA-B*35', 'CMV-_other']\n",
    "cmv_hla = cmv_hla.set_index('cdr3aa')\n",
    "\n",
    "\n",
    "def OddsRario_Pvalue(df, col1, col2, col3, col4):\n",
    "    index_lst = list(df.index) \n",
    "    df['odds_ratio'] = [0]*len(index_lst)\n",
    "    df['p-value'] = [0]*len(index_lst)\n",
    "    for i in index_lst:\n",
    "        a = df.loc[i, col1]\n",
    "        b = df.loc[i, col2]\n",
    "        c = df.loc[i, col3]\n",
    "        d = df.loc[i, col4]\n",
    "        сont_lst = [[a,b], [c,d]]\n",
    "        oddsratio, pvalue = stats.fisher_exact(сont_lst)\n",
    "        df.loc[i, 'odds_ratio'] = oddsratio\n",
    "        df.loc[i, 'p-value'] =  pvalue\n",
    "\n",
    "\n",
    "\n",
    "OddsRario_Pvalue(cmv_hla, 'CMV+_HLA-B*35', 'CMV+_other', 'CMV-_HLA-B*35', 'CMV-_other')\n",
    "\n",
    "cmv_hla = cmv_hla.drop(cmv_hla[cmv_hla.odds_ratio < 1.1].index) \n",
    "df.to_csv('cmv_hla_pv_1.txt', sep = '\\t')\n",
    "df_finish = cmv_hela.sort_values('p-value', kind='mergesort')\n",
    "df_finish.to_csv('cmv_hla-B*35_pv_2.txt', sep = '\\t')\n"
   ]
  },
  {
   "cell_type": "code",
   "execution_count": 4,
   "metadata": {},
   "outputs": [
    {
     "data": {
      "text/plain": [
       "str"
      ]
     },
     "execution_count": 4,
     "metadata": {},
     "output_type": "execute_result"
    }
   ],
   "source": [
    "\n"
   ]
  }
 ],
 "metadata": {
  "kernelspec": {
   "display_name": "Python 3",
   "language": "python",
   "name": "python3"
  },
  "language_info": {
   "codemirror_mode": {
    "name": "ipython",
    "version": 3
   },
   "file_extension": ".py",
   "mimetype": "text/x-python",
   "name": "python",
   "nbconvert_exporter": "python",
   "pygments_lexer": "ipython3",
   "version": "3.6.9"
  }
 },
 "nbformat": 4,
 "nbformat_minor": 4
}
