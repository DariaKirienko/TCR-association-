{
 "cells": [
  {
   "cell_type": "code",
   "execution_count": null,
   "metadata": {},
   "outputs": [],
   "source": [
    "import pandas as pd\n",
    "import scipy.stats as stats\n",
    "import statsmodels.stats.multitest as smt\n",
    "\n",
    "\n",
    "cmv = pd.read_csv('D:\\coder\\M_projects_Python\\Mikhail_Shugai\\cmv_clones_.txt', sep=',')\n",
    "cmv.columns = ['cdr3aa','f+CMV-', 'n_f+CMV-', 'f+CMV+', 'n_f+CMV+' ]\n",
    "cmv = cmv.set_index('cdr3aa')\n",
    "\n",
    "\n",
    "cdr3 = list(cmv.index) \n",
    "\n",
    "\n",
    "df_col = [0]*len(cdr3)\n",
    "df_pv = pd.DataFrame({'odds_ratio' : df_col, 'p-value' : df_col, 'p-value_adjust' : df_col}, index = cdr3)\n",
    "\n",
    "\n",
    "for item in cdr3:                                                              #Odds ratio, Fisher test\n",
    "    a =  cmv.loc[item, 'f+CMV+']\n",
    "    b = cmv.loc[item, 'f+CMV-']\n",
    "    c = cmv.loc[item, 'n_f+CMV+']\n",
    "    d = cmv.loc[item, 'n_f+CMV-']\n",
    "    lst = [[a,b],[c,d]]\n",
    "    oddsratio, pvalue = stats.fisher_exact(lst)\n",
    "    df_pv.loc[item, 'odds_ratio'] = oddsratio\n",
    "    df_pv.loc[item, 'p-value'] =  pvalue\n",
    "\n",
    "  \n",
    "\n",
    "\n",
    "df = df_pv.drop(df_pv[df_pv.odds_ratio < 1.1].index)                           #Drop Oddds ratio < 1.1\n",
    "\n",
    "\n",
    "r, pc, aS, aB =  smt.multipletests(list(df['p-value']), alpha=0.05,            #p-value adjustment\n",
    "         method='fdr_bh', is_sorted=False, returnsorted=False)  \n",
    "df['p-value_adjust'] = pc\n",
    "\n",
    "\n",
    "df_finish = df.sort_values('p-value_adjust', kind='mergesort')\n",
    "df_finish.index.name = 'cdr3aa'\n",
    "df_finish = df_finish.round(5)\n",
    "\n",
    "df_finish.to_csv('cmv_pv.txt')\n"
   ]
  },
  {
   "cell_type": "code",
   "execution_count": 1,
   "metadata": {},
   "outputs": [
    {
     "name": "stdout",
     "output_type": "stream",
     "text": [
      "importing Jupyter notebook from mymodule.ipynb\n"
     ]
    }
   ],
   "source": [
    "import pandas as pd\n",
    "import os \n",
    "import import_ipynb\n",
    "import mymodule as md\n",
    "\n",
    "public = pd.read_csv('/projects/fmba_covid/hip_downsampled/pool/pool.aa.table.txt', sep = '\\t')\n",
    "public = public.drop(public[public.incidence < 20].index)\n",
    "met_data = pd.read_csv('/projects/fmba_covid/hip_downsampled/metadata.txt', sep = '\\t')\n",
    "\n",
    "met_data = met_data.dropna(subset=['cmv', 'hla'])                         #удаляем NaN значения\n",
    "sample_lst = [i for i in os.listdir() if i.startswith(\"HIP\")]\n",
    "sample_lst = md.IntersLst(list(met_data['file_name']), sample_lst)\n",
    "\n",
    "\n",
    "met_cmv = dict(zip(list(met_data['file_name']), list(met_data['cmv'])))  #Словарь \"название образца\" : \"CMV\"  \n",
    "met_hla = dict(zip(list(met_data['file_name']), list(met_data['hla'])))  #Словарь \"название образца\" : \"список из HLA\"\n",
    "cdr3_lst = list(public['cdr3aa'])                                            #Список ID CDR3aa\n",
    "df_col = [1]*len(cdr3_lst)\n",
    "\n",
    "\n",
    "#Это мой датафрейм\n",
    "df = pd.DataFrame({'CMV+_HLA-B*35' : df_col, 'CMV+_other' : df_col, 'CMV-_HLA-B*35' : df_col, 'CMV-_other' : df_col}, \n",
    "                  index = cdr3_lst)\n",
    "df.index.name='cdr3aa'\n",
    "#Это мой датафрейм\n",
    "\n",
    "os.chdir(\"/projects/fmba_covid/hip_downsampled\")\n",
    "\n",
    "hla = \"HLA-B*35\" \n",
    "\n",
    "for filename in sample_lst:\n",
    "    #if filename.startswith(\"HIP\"):\n",
    "        sample = md.read_col(filename, 3)\n",
    "        found = md.IntersLst(cdr3_lst, sample)        \n",
    "        if met_cmv[filename]== '+':\n",
    "            if hla in list(met_hla[filename].split(',')):\n",
    "                df.loc[found, 'CMV+_HLA-B*35'] += 1\n",
    "            else:\n",
    "                df.loc[found, 'CMV+_other'] += 1\n",
    "        elif met_cmv[filename]== '-':\n",
    "            if hla in list(met_hla[filename].split(',')):\n",
    "                df.loc[found, 'CMV-_HLA-B*35'] += 1\n",
    "            else: \n",
    "                df.loc[found, 'CMV-_other'] += 1\n",
    "    \n",
    "os.chdir(\"/home/daria/A02/common\")    \n",
    "df.to_csv('cmv_hla-B*35_2.txt', sep = '\\t')\n"
   ]
  }
 ],
 "metadata": {
  "kernelspec": {
   "display_name": "Python 3",
   "language": "python",
   "name": "python3"
  },
  "language_info": {
   "codemirror_mode": {
    "name": "ipython",
    "version": 3
   },
   "file_extension": ".py",
   "mimetype": "text/x-python",
   "name": "python",
   "nbconvert_exporter": "python",
   "pygments_lexer": "ipython3",
   "version": "3.6.9"
  }
 },
 "nbformat": 4,
 "nbformat_minor": 4
}
