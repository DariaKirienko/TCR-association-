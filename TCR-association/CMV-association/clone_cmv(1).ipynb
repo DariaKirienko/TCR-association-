{
 "cells": [
  {
   "cell_type": "code",
   "execution_count": null,
   "metadata": {},
   "outputs": [],
   "source": [
    "import pandas as pd\n",
    "import os \n",
    "from collections import Counter \n",
    "\n",
    "\n",
    "public = pd.read_csv('D:\\coder\\M_projects_Python\\Mikhail_Shugai\\public_clones.txt', sep='\\t', index_col = False)\n",
    "met_data = pd.read_csv('D:\\coder\\M_projects_Python\\Mikhail_Shugai\\metadata.txt', sep='\\t', index_col = False)\n",
    "\n",
    "pub_lst = list(public['cdr3aa'])\n",
    "met_dict = dict(zip(list(met_data['file_name']), list(met_data['cmv'])))\n",
    "\n",
    "def read_col(file, n):                                                         #открывает файл, генерирует список из данных n-ого столбца    \n",
    "    result = []                                     \n",
    "    with open(file) as infile:\n",
    "        for line in infile:\n",
    "            result.append((line.split()[n]))\n",
    "    return result        \n",
    "\n",
    "f_plus = []\n",
    "f_min = []\n",
    "nf_plus = []\n",
    "nf_min = []\n",
    "    \n",
    "\n",
    "def IntersLst(first, second):                                                   #возвращиет пересечение двух списков\n",
    "    in_lst =  list(set(first) & set(second))\n",
    "    return in_lst\n",
    "\n",
    "def DifLst(first, second):                                                     #разница двух списков\n",
    "    dif_lst = list(set(first) - set(second))\n",
    "    return dif_lst\n",
    "    \n",
    "for filename in os.listdir():\n",
    "    sample = read_col(filename, 3)\n",
    "    found = IntersLst(pub_lst, sample)\n",
    "    not_found = DifLst(pub_lst, found)            \n",
    "    if met_dict[os.path.basename(filename)]== '+':\n",
    "        f_plus.extend(found)\n",
    "        nf_plus.extend(not_found)\n",
    "    elif met_dict[os.path.basename(filename)]== '-':\n",
    "        f_min.extend(found) \n",
    "        nf_min.extend(not_found)\n",
    "             \n",
    "     \n",
    "pub_dict = dict(zip(pub_lst, [0]*len(pub_lst)))\n",
    "f_plus_d = { **pub_dict, **Counter(f_plus)}\n",
    "f_min_d = { **pub_dict, **Counter(f_min)}\n",
    "nf_plus_d = { **pub_dict, **Counter(nf_plus)}\n",
    "nf_min_d  = { **pub_dict, **Counter(nf_min)}       \n",
    "\n",
    "fmin, nfmin, fplus, nfplus = pd.Series(f_min_d), pd.Series(nf_min_d), pd.Series(f_plus_d), pd.Series(nf_plus_d)    \n",
    "\n",
    "df = pd.concat([fmin.rename('fmin'), nfmin.rename('nfmin'), fplus.rename('fplus'), nfplus.rename('nfplus')], axis = 1)\n",
    "\n",
    "#df.to_csv('cmv_clones.txt')"
   ]
  }
 ],
 "metadata": {
  "kernelspec": {
   "display_name": "Python 3",
   "language": "python",
   "name": "python3"
  },
  "language_info": {
   "codemirror_mode": {
    "name": "ipython",
    "version": 3
   },
   "file_extension": ".py",
   "mimetype": "text/x-python",
   "name": "python",
   "nbconvert_exporter": "python",
   "pygments_lexer": "ipython3",
   "version": "3.6.9"
  }
 },
 "nbformat": 4,
 "nbformat_minor": 4
}
