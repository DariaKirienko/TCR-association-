{
 "cells": [
  {
   "cell_type": "code",
   "execution_count": 5,
   "metadata": {},
   "outputs": [
    {
     "ename": "KeyboardInterrupt",
     "evalue": "",
     "output_type": "error",
     "traceback": [
      "\u001b[0;31m---------------------------------------------------------------------------\u001b[0m",
      "\u001b[0;31mKeyboardInterrupt\u001b[0m                         Traceback (most recent call last)",
      "\u001b[0;32m<ipython-input-5-f335f2c74d81>\u001b[0m in \u001b[0;36m<module>\u001b[0;34m\u001b[0m\n\u001b[1;32m      4\u001b[0m \u001b[0;32mimport\u001b[0m \u001b[0mmymodule\u001b[0m \u001b[0;32mas\u001b[0m \u001b[0mmd\u001b[0m\u001b[0;34m\u001b[0m\u001b[0;34m\u001b[0m\u001b[0m\n\u001b[1;32m      5\u001b[0m \u001b[0;34m\u001b[0m\u001b[0m\n\u001b[0;32m----> 6\u001b[0;31m \u001b[0mpublic\u001b[0m \u001b[0;34m=\u001b[0m \u001b[0mpd\u001b[0m\u001b[0;34m.\u001b[0m\u001b[0mread_csv\u001b[0m\u001b[0;34m(\u001b[0m\u001b[0;34m'/projects/fmba_covid/hip_downsampled/pool/pool.aa.table.txt'\u001b[0m\u001b[0;34m,\u001b[0m \u001b[0msep\u001b[0m \u001b[0;34m=\u001b[0m \u001b[0;34m'\\t'\u001b[0m\u001b[0;34m)\u001b[0m\u001b[0;34m\u001b[0m\u001b[0;34m\u001b[0m\u001b[0m\n\u001b[0m\u001b[1;32m      7\u001b[0m \u001b[0mpublic\u001b[0m \u001b[0;34m=\u001b[0m \u001b[0mpublic\u001b[0m\u001b[0;34m.\u001b[0m\u001b[0mdrop\u001b[0m\u001b[0;34m(\u001b[0m\u001b[0mpublic\u001b[0m\u001b[0;34m[\u001b[0m\u001b[0mpublic\u001b[0m\u001b[0;34m.\u001b[0m\u001b[0mincidence\u001b[0m \u001b[0;34m<\u001b[0m \u001b[0;36m20\u001b[0m\u001b[0;34m]\u001b[0m\u001b[0;34m.\u001b[0m\u001b[0mindex\u001b[0m\u001b[0;34m)\u001b[0m\u001b[0;34m\u001b[0m\u001b[0;34m\u001b[0m\u001b[0m\n\u001b[1;32m      8\u001b[0m \u001b[0mmet_data\u001b[0m \u001b[0;34m=\u001b[0m \u001b[0mpd\u001b[0m\u001b[0;34m.\u001b[0m\u001b[0mread_csv\u001b[0m\u001b[0;34m(\u001b[0m\u001b[0;34m'/projects/fmba_covid/hip_downsampled/metadata.txt'\u001b[0m\u001b[0;34m,\u001b[0m \u001b[0msep\u001b[0m \u001b[0;34m=\u001b[0m \u001b[0;34m'\\t'\u001b[0m\u001b[0;34m)\u001b[0m\u001b[0;34m\u001b[0m\u001b[0;34m\u001b[0m\u001b[0m\n",
      "\u001b[0;32m~/.local/lib/python3.6/site-packages/pandas/io/parsers.py\u001b[0m in \u001b[0;36mread_csv\u001b[0;34m(filepath_or_buffer, sep, delimiter, header, names, index_col, usecols, squeeze, prefix, mangle_dupe_cols, dtype, engine, converters, true_values, false_values, skipinitialspace, skiprows, skipfooter, nrows, na_values, keep_default_na, na_filter, verbose, skip_blank_lines, parse_dates, infer_datetime_format, keep_date_col, date_parser, dayfirst, cache_dates, iterator, chunksize, compression, thousands, decimal, lineterminator, quotechar, quoting, doublequote, escapechar, comment, encoding, dialect, error_bad_lines, warn_bad_lines, delim_whitespace, low_memory, memory_map, float_precision)\u001b[0m\n\u001b[1;32m    684\u001b[0m     )\n\u001b[1;32m    685\u001b[0m \u001b[0;34m\u001b[0m\u001b[0m\n\u001b[0;32m--> 686\u001b[0;31m     \u001b[0;32mreturn\u001b[0m \u001b[0m_read\u001b[0m\u001b[0;34m(\u001b[0m\u001b[0mfilepath_or_buffer\u001b[0m\u001b[0;34m,\u001b[0m \u001b[0mkwds\u001b[0m\u001b[0;34m)\u001b[0m\u001b[0;34m\u001b[0m\u001b[0;34m\u001b[0m\u001b[0m\n\u001b[0m\u001b[1;32m    687\u001b[0m \u001b[0;34m\u001b[0m\u001b[0m\n\u001b[1;32m    688\u001b[0m \u001b[0;34m\u001b[0m\u001b[0m\n",
      "\u001b[0;32m~/.local/lib/python3.6/site-packages/pandas/io/parsers.py\u001b[0m in \u001b[0;36m_read\u001b[0;34m(filepath_or_buffer, kwds)\u001b[0m\n\u001b[1;32m    456\u001b[0m \u001b[0;34m\u001b[0m\u001b[0m\n\u001b[1;32m    457\u001b[0m     \u001b[0;32mtry\u001b[0m\u001b[0;34m:\u001b[0m\u001b[0;34m\u001b[0m\u001b[0;34m\u001b[0m\u001b[0m\n\u001b[0;32m--> 458\u001b[0;31m         \u001b[0mdata\u001b[0m \u001b[0;34m=\u001b[0m \u001b[0mparser\u001b[0m\u001b[0;34m.\u001b[0m\u001b[0mread\u001b[0m\u001b[0;34m(\u001b[0m\u001b[0mnrows\u001b[0m\u001b[0;34m)\u001b[0m\u001b[0;34m\u001b[0m\u001b[0;34m\u001b[0m\u001b[0m\n\u001b[0m\u001b[1;32m    459\u001b[0m     \u001b[0;32mfinally\u001b[0m\u001b[0;34m:\u001b[0m\u001b[0;34m\u001b[0m\u001b[0;34m\u001b[0m\u001b[0m\n\u001b[1;32m    460\u001b[0m         \u001b[0mparser\u001b[0m\u001b[0;34m.\u001b[0m\u001b[0mclose\u001b[0m\u001b[0;34m(\u001b[0m\u001b[0;34m)\u001b[0m\u001b[0;34m\u001b[0m\u001b[0;34m\u001b[0m\u001b[0m\n",
      "\u001b[0;32m~/.local/lib/python3.6/site-packages/pandas/io/parsers.py\u001b[0m in \u001b[0;36mread\u001b[0;34m(self, nrows)\u001b[0m\n\u001b[1;32m   1194\u001b[0m     \u001b[0;32mdef\u001b[0m \u001b[0mread\u001b[0m\u001b[0;34m(\u001b[0m\u001b[0mself\u001b[0m\u001b[0;34m,\u001b[0m \u001b[0mnrows\u001b[0m\u001b[0;34m=\u001b[0m\u001b[0;32mNone\u001b[0m\u001b[0;34m)\u001b[0m\u001b[0;34m:\u001b[0m\u001b[0;34m\u001b[0m\u001b[0;34m\u001b[0m\u001b[0m\n\u001b[1;32m   1195\u001b[0m         \u001b[0mnrows\u001b[0m \u001b[0;34m=\u001b[0m \u001b[0m_validate_integer\u001b[0m\u001b[0;34m(\u001b[0m\u001b[0;34m\"nrows\"\u001b[0m\u001b[0;34m,\u001b[0m \u001b[0mnrows\u001b[0m\u001b[0;34m)\u001b[0m\u001b[0;34m\u001b[0m\u001b[0;34m\u001b[0m\u001b[0m\n\u001b[0;32m-> 1196\u001b[0;31m         \u001b[0mret\u001b[0m \u001b[0;34m=\u001b[0m \u001b[0mself\u001b[0m\u001b[0;34m.\u001b[0m\u001b[0m_engine\u001b[0m\u001b[0;34m.\u001b[0m\u001b[0mread\u001b[0m\u001b[0;34m(\u001b[0m\u001b[0mnrows\u001b[0m\u001b[0;34m)\u001b[0m\u001b[0;34m\u001b[0m\u001b[0;34m\u001b[0m\u001b[0m\n\u001b[0m\u001b[1;32m   1197\u001b[0m \u001b[0;34m\u001b[0m\u001b[0m\n\u001b[1;32m   1198\u001b[0m         \u001b[0;31m# May alter columns / col_dict\u001b[0m\u001b[0;34m\u001b[0m\u001b[0;34m\u001b[0m\u001b[0;34m\u001b[0m\u001b[0m\n",
      "\u001b[0;32m~/.local/lib/python3.6/site-packages/pandas/io/parsers.py\u001b[0m in \u001b[0;36mread\u001b[0;34m(self, nrows)\u001b[0m\n\u001b[1;32m   2153\u001b[0m     \u001b[0;32mdef\u001b[0m \u001b[0mread\u001b[0m\u001b[0;34m(\u001b[0m\u001b[0mself\u001b[0m\u001b[0;34m,\u001b[0m \u001b[0mnrows\u001b[0m\u001b[0;34m=\u001b[0m\u001b[0;32mNone\u001b[0m\u001b[0;34m)\u001b[0m\u001b[0;34m:\u001b[0m\u001b[0;34m\u001b[0m\u001b[0;34m\u001b[0m\u001b[0m\n\u001b[1;32m   2154\u001b[0m         \u001b[0;32mtry\u001b[0m\u001b[0;34m:\u001b[0m\u001b[0;34m\u001b[0m\u001b[0;34m\u001b[0m\u001b[0m\n\u001b[0;32m-> 2155\u001b[0;31m             \u001b[0mdata\u001b[0m \u001b[0;34m=\u001b[0m \u001b[0mself\u001b[0m\u001b[0;34m.\u001b[0m\u001b[0m_reader\u001b[0m\u001b[0;34m.\u001b[0m\u001b[0mread\u001b[0m\u001b[0;34m(\u001b[0m\u001b[0mnrows\u001b[0m\u001b[0;34m)\u001b[0m\u001b[0;34m\u001b[0m\u001b[0;34m\u001b[0m\u001b[0m\n\u001b[0m\u001b[1;32m   2156\u001b[0m         \u001b[0;32mexcept\u001b[0m \u001b[0mStopIteration\u001b[0m\u001b[0;34m:\u001b[0m\u001b[0;34m\u001b[0m\u001b[0;34m\u001b[0m\u001b[0m\n\u001b[1;32m   2157\u001b[0m             \u001b[0;32mif\u001b[0m \u001b[0mself\u001b[0m\u001b[0;34m.\u001b[0m\u001b[0m_first_chunk\u001b[0m\u001b[0;34m:\u001b[0m\u001b[0;34m\u001b[0m\u001b[0;34m\u001b[0m\u001b[0m\n",
      "\u001b[0;32mpandas/_libs/parsers.pyx\u001b[0m in \u001b[0;36mpandas._libs.parsers.TextReader.read\u001b[0;34m()\u001b[0m\n",
      "\u001b[0;32mpandas/_libs/parsers.pyx\u001b[0m in \u001b[0;36mpandas._libs.parsers.TextReader._read_low_memory\u001b[0;34m()\u001b[0m\n",
      "\u001b[0;32mpandas/_libs/parsers.pyx\u001b[0m in \u001b[0;36mpandas._libs.parsers.TextReader._read_rows\u001b[0;34m()\u001b[0m\n",
      "\u001b[0;32mpandas/_libs/parsers.pyx\u001b[0m in \u001b[0;36mpandas._libs.parsers.TextReader._convert_column_data\u001b[0;34m()\u001b[0m\n",
      "\u001b[0;32mpandas/_libs/parsers.pyx\u001b[0m in \u001b[0;36mpandas._libs.parsers.TextReader._convert_tokens\u001b[0;34m()\u001b[0m\n",
      "\u001b[0;32mpandas/_libs/parsers.pyx\u001b[0m in \u001b[0;36mpandas._libs.parsers.TextReader._convert_with_dtype\u001b[0;34m()\u001b[0m\n",
      "\u001b[0;32m~/.local/lib/python3.6/site-packages/pandas/core/dtypes/common.py\u001b[0m in \u001b[0;36mis_categorical_dtype\u001b[0;34m(arr_or_dtype)\u001b[0m\n\u001b[1;32m    528\u001b[0m \u001b[0;34m\u001b[0m\u001b[0m\n\u001b[1;32m    529\u001b[0m \u001b[0;34m\u001b[0m\u001b[0m\n\u001b[0;32m--> 530\u001b[0;31m \u001b[0;32mdef\u001b[0m \u001b[0mis_categorical_dtype\u001b[0m\u001b[0;34m(\u001b[0m\u001b[0marr_or_dtype\u001b[0m\u001b[0;34m)\u001b[0m \u001b[0;34m->\u001b[0m \u001b[0mbool\u001b[0m\u001b[0;34m:\u001b[0m\u001b[0;34m\u001b[0m\u001b[0;34m\u001b[0m\u001b[0m\n\u001b[0m\u001b[1;32m    531\u001b[0m     \"\"\"\n\u001b[1;32m    532\u001b[0m     \u001b[0mCheck\u001b[0m \u001b[0mwhether\u001b[0m \u001b[0man\u001b[0m \u001b[0marray\u001b[0m\u001b[0;34m-\u001b[0m\u001b[0mlike\u001b[0m \u001b[0;32mor\u001b[0m \u001b[0mdtype\u001b[0m \u001b[0;32mis\u001b[0m \u001b[0mof\u001b[0m \u001b[0mthe\u001b[0m \u001b[0mCategorical\u001b[0m \u001b[0mdtype\u001b[0m\u001b[0;34m.\u001b[0m\u001b[0;34m\u001b[0m\u001b[0;34m\u001b[0m\u001b[0m\n",
      "\u001b[0;31mKeyboardInterrupt\u001b[0m: "
     ]
    }
   ],
   "source": [
    "import pandas as pd\n",
    "import os \n",
    "import import_ipynb\n",
    "import mymodule as md\n",
    "\n",
    "public = pd.read_csv('/projects/fmba_covid/hip_downsampled/pool/pool.aa.table.txt', sep = '\\t')\n",
    "public = public.drop(public[public.incidence < 20].index)\n",
    "met_data = pd.read_csv('/projects/fmba_covid/hip_downsampled/metadata.txt', sep = '\\t')\n",
    "\n",
    "os.chdir(\"/projects/fmba_covid/hip_downsampled\")\n",
    "\n",
    "met_data = met_data.dropna(subset=['cmv', 'hla'])                         #удаляем NaN значения\n",
    "sample_lst = [i for i in os.listdir() if i.startswith(\"HIP\")]\n",
    "sample_lst = md.IntersLst(list(met_data['file_name']), sample_lst)\n",
    "\n",
    "print(sample_lst)\n",
    "\n",
    "\n",
    "met_cmv = dict(zip(list(met_data['file_name']), list(met_data['cmv'])))  #Словарь \"название образца\" : \"CMV\"  \n",
    "met_hla = dict(zip(list(met_data['file_name']), list(met_data['hla'])))  #Словарь \"название образца\" : \"список из HLA\"\n",
    "cdr3_lst = list(public['cdr3aa'])                                            #Список ID CDR3aa\n",
    "df_col = [1]*len(cdr3_lst)\n",
    "\n",
    "\n",
    "#Это мой датафрейм\n",
    "df = pd.DataFrame({'CMV+_HLA-B*35' : df_col, 'CMV+_other' : df_col, 'CMV-_HLA-B*35' : df_col, 'CMV-_other' : df_col}, \n",
    "                  index = cdr3_lst)\n",
    "df.index.name='cdr3aa'\n",
    "#Это мой датафрейм\n",
    "\n",
    "\n",
    "hla = \"HLA-B*35\" \n",
    "\n",
    "for filename in sample_lst:\n",
    "    #if filename.startswith(\"HIP\"):\n",
    "        sample = md.read_col(filename, 3)\n",
    "        found = md.IntersLst(cdr3_lst, sample)        \n",
    "        if met_cmv[filename]== '+':\n",
    "            if hla in list(met_hla[filename].split(',')):\n",
    "                df.loc[found, 'CMV+_HLA-B*35'] += 1\n",
    "            else:\n",
    "                df.loc[found, 'CMV+_other'] += 1\n",
    "        elif met_cmv[filename]== '-':\n",
    "            if hla in list(met_hla[filename].split(',')):\n",
    "                df.loc[found, 'CMV-_HLA-B*35'] += 1\n",
    "            else: \n",
    "                df.loc[found, 'CMV-_other'] += 1\n",
    "    \n",
    "os.chdir(\"/home/daria/A02/common\")    \n",
    "#df.to_csv('cmv_hla-B*35_2.txt', sep = '\\t')\n"
   ]
  },
  {
   "cell_type": "code",
   "execution_count": 37,
   "metadata": {},
   "outputs": [
    {
     "ename": "NameError",
     "evalue": "name 'stats' is not defined",
     "output_type": "error",
     "traceback": [
      "\u001b[0;31m---------------------------------------------------------------------------\u001b[0m",
      "\u001b[0;31mNameError\u001b[0m                                 Traceback (most recent call last)",
      "\u001b[0;32m<ipython-input-37-f8e0c7d262c9>\u001b[0m in \u001b[0;36m<module>\u001b[0;34m\u001b[0m\n\u001b[1;32m     10\u001b[0m \u001b[0mcmv_hla\u001b[0m \u001b[0;34m=\u001b[0m \u001b[0mcmv_hla\u001b[0m\u001b[0;34m.\u001b[0m\u001b[0mset_index\u001b[0m\u001b[0;34m(\u001b[0m\u001b[0;34m'cdr3aa'\u001b[0m\u001b[0;34m)\u001b[0m\u001b[0;34m\u001b[0m\u001b[0;34m\u001b[0m\u001b[0m\n\u001b[1;32m     11\u001b[0m \u001b[0;34m\u001b[0m\u001b[0m\n\u001b[0;32m---> 12\u001b[0;31m \u001b[0mmd\u001b[0m\u001b[0;34m.\u001b[0m\u001b[0mOddsRario_Pvalue\u001b[0m\u001b[0;34m(\u001b[0m\u001b[0mcmv_hla\u001b[0m\u001b[0;34m,\u001b[0m \u001b[0;34m'CMV+_HLA-B*35'\u001b[0m\u001b[0;34m,\u001b[0m \u001b[0;34m'CMV+_other'\u001b[0m\u001b[0;34m,\u001b[0m \u001b[0;34m'CMV-_HLA-B*35'\u001b[0m\u001b[0;34m,\u001b[0m \u001b[0;34m'CMV-_other'\u001b[0m\u001b[0;34m)\u001b[0m\u001b[0;34m\u001b[0m\u001b[0;34m\u001b[0m\u001b[0m\n\u001b[0m\u001b[1;32m     13\u001b[0m \u001b[0;34m\u001b[0m\u001b[0m\n\u001b[1;32m     14\u001b[0m \u001b[0mcmv_hela\u001b[0m \u001b[0;34m=\u001b[0m \u001b[0mcmv_hela\u001b[0m\u001b[0;34m.\u001b[0m\u001b[0mdrop\u001b[0m\u001b[0;34m(\u001b[0m\u001b[0mcmv_hela\u001b[0m\u001b[0;34m[\u001b[0m\u001b[0mcmv_hela\u001b[0m\u001b[0;34m.\u001b[0m\u001b[0modds_ratio\u001b[0m \u001b[0;34m<\u001b[0m \u001b[0;36m1.1\u001b[0m\u001b[0;34m]\u001b[0m\u001b[0;34m.\u001b[0m\u001b[0mindex\u001b[0m\u001b[0;34m)\u001b[0m\u001b[0;34m\u001b[0m\u001b[0;34m\u001b[0m\u001b[0m\n",
      "\u001b[0;32m~/github/TCR-association/CMV-association/mymodule.ipynb\u001b[0m in \u001b[0;36mOddsRario_Pvalue\u001b[0;34m(df, col1, col2, col3, col4)\u001b[0m\n",
      "\u001b[0;31mNameError\u001b[0m: name 'stats' is not defined"
     ]
    }
   ],
   "source": [
    "import pandas as pd\n",
    "import import_ipynb\n",
    "from mymodule import OddsRario_Pvalue\n",
    "import os \n",
    "import scipy.stats as stats\n",
    "import statsmodels.stats.multitest as smt\n",
    "\n",
    "cmv_hla = pd.read_csv('/home/daria/TCR-association/common/cmv_hla-B*35_2.txt', sep='\\t')\n",
    "cmv_hla.columns = ['cdr3aa','CMV+_HLA-B*35', 'CMV+_other', 'CMV-_HLA-B*35', 'CMV-_other']\n",
    "cmv_hla = cmv_hla.set_index('cdr3aa')\n",
    "\n",
    "md.OddsRario_Pvalue(cmv_hla, 'CMV+_HLA-B*35', 'CMV+_other', 'CMV-_HLA-B*35', 'CMV-_other')\n",
    "\n",
    "cmv_hela = cmv_hela.drop(cmv_hela[cmv_hela.odds_ratio < 1.1].index) \n",
    "df.to_csv('cmv_hla_pv_1.txt', sep = '\\t')\n",
    "df_finish = cmv_hela.sort_values('p-value', kind='mergesort')\n",
    "\n",
    "#df_finish.to_csv('cmv_hla-B*35_pv_2.txt', sep = '\\t')\n",
    "print(df_finish)"
   ]
  },
  {
   "cell_type": "code",
   "execution_count": 4,
   "metadata": {},
   "outputs": [],
   "source": [
    "import pandas as pd\n",
    "import import_ipynb\n",
    "import mymodule as md\n",
    "import os \n",
    "import scipy.stats as stats\n",
    "#import statsmodels.stats.multitest as smt\n",
    "\n",
    "cmv_hla = pd.read_csv('/home/daria/TCR-association/common/cmv_hla-B*35_2.txt', sep='\\t')\n",
    "cmv_hla.columns = ['cdr3aa','CMV+_HLA-B*35', 'CMV+_other', 'CMV-_HLA-B*35', 'CMV-_other']\n",
    "cmv_hla = cmv_hla.set_index('cdr3aa')\n",
    "\n",
    "\n",
    "def OddsRario_Pvalue(df, col1, col2, col3, col4):\n",
    "    index_lst = list(df.index) \n",
    "    df['odds_ratio'] = [0]*len(index_lst)\n",
    "    df['p-value'] = [0]*len(index_lst)\n",
    "    for i in index_lst:\n",
    "        a = df.loc[i, col1]\n",
    "        b = df.loc[i, col2]\n",
    "        c = df.loc[i, col3]\n",
    "        d = df.loc[i, col4]\n",
    "        сont_lst = [[a,b], [c,d]]\n",
    "        oddsratio, pvalue = stats.fisher_exact(сont_lst)\n",
    "        df.loc[i, 'odds_ratio'] = oddsratio\n",
    "        df.loc[i, 'p-value'] =  pvalue\n",
    "\n",
    "\n",
    "\n",
    "OddsRario_Pvalue(cmv_hla, 'CMV+_HLA-B*35', 'CMV+_other', 'CMV-_HLA-B*35', 'CMV-_other')\n",
    "\n",
    "cmv_hla = cmv_hla.drop(cmv_hla[cmv_hla.odds_ratio < 1.1].index) \n",
    "df_finish = cmv_hla.sort_values('p-value', kind='mergesort')\n",
    "\n",
    "os.chdir(\"/home/daria/TCR-association/common\")\n",
    "df_finish.to_csv('cmv_hla-B*35_pv_2.txt', sep = '\\t')\n"
   ]
  },
  {
   "cell_type": "code",
   "execution_count": 4,
   "metadata": {},
   "outputs": [
    {
     "data": {
      "text/plain": [
       "str"
      ]
     },
     "execution_count": 4,
     "metadata": {},
     "output_type": "execute_result"
    }
   ],
   "source": [
    "\n"
   ]
  }
 ],
 "metadata": {
  "kernelspec": {
   "display_name": "Python 3",
   "language": "python",
   "name": "python3"
  },
  "language_info": {
   "codemirror_mode": {
    "name": "ipython",
    "version": 3
   },
   "file_extension": ".py",
   "mimetype": "text/x-python",
   "name": "python",
   "nbconvert_exporter": "python",
   "pygments_lexer": "ipython3",
   "version": "3.6.9"
  }
 },
 "nbformat": 4,
 "nbformat_minor": 4
}
